{
  "nbformat": 4,
  "nbformat_minor": 0,
  "metadata": {
    "colab": {
      "name": "Untitled1.ipynb",
      "provenance": [],
      "authorship_tag": "ABX9TyMEPtR7RVBgMcdDuGwBicXJ",
      "include_colab_link": true
    },
    "kernelspec": {
      "name": "python3",
      "display_name": "Python 3"
    }
  },
  "cells": [
    {
      "cell_type": "markdown",
      "metadata": {
        "id": "view-in-github",
        "colab_type": "text"
      },
      "source": [
        "<a href=\"https://colab.research.google.com/github/kingjuwan/-/blob/master/Untitled1.ipynb\" target=\"_parent\"><img src=\"https://colab.research.google.com/assets/colab-badge.svg\" alt=\"Open In Colab\"/></a>"
      ]
    },
    {
      "cell_type": "code",
      "metadata": {
        "id": "7Xc8cQbpnJ18",
        "colab_type": "code",
        "colab": {}
      },
      "source": [
        ""
      ],
      "execution_count": 0,
      "outputs": []
    },
    {
      "cell_type": "markdown",
      "metadata": {
        "id": "Gbz1JsExyEwW",
        "colab_type": "text"
      },
      "source": [
        "# 인공지능 스피커\n",
        "**제가 일상생활에서 가장 많이 사용하는 인공지능 기술은 AI스피커 입니다.**\n",
        "1. 현재 아마존, 구글, 애플 등 글로벌 IT 기업이 이 시장에 뛰어들었고 국내에서는 SK텔레콤, KT, 네이버, 삼성전자 등도 이 시장에 뛰어들어 제품을 내놓았습니다.\n",
        "인공지능 스피커를 사용하면 손을 사용하지 않고 음성으로 편하게 사용하다는 장점이 있으며\n",
        "iot 기술을 이용해 불을 끄거나 에어컨을 켜는 등 다양한 활용이 가능합니다.\n",
        "이런 점에서 단순한 스피커가 아닌 비서라는 표현이 어울리는 것 같습니다.\n",
        "\n",
        "2. 이러한 인공지능 음성인식 기술을 사용하기 위해서는\n",
        "첫 번째로 우리가 말하는 자연어를 기계가 알아들을 수 있는 기계어로 만들어야 하고\n",
        "두 번째로 기계어를 딥러닝 기술을 활용해 패턴을 분석하여 높은 정확도의 의사결정을 해야 합니다.\n",
        "\n",
        "3. 그래서 저는 학습목표로 파이썬을 이용해 모델링 분석을 공부하는 목표를 세웠습니다.\n",
        "\n"
      ]
    }
  ]
}